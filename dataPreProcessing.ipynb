{
 "cells": [
  {
   "cell_type": "code",
   "execution_count": 1,
   "metadata": {
    "collapsed": true,
    "pycharm": {
     "is_executing": false
    }
   },
   "outputs": [],
   "source": [
    "import pandas as pd"
   ]
  },
  {
   "cell_type": "code",
   "execution_count": 23,
   "outputs": [
    {
     "data": {
      "text/plain": "        loan_id source       financial_institution  interest_rate  \\\n0  268055008619      Z  Turner, Baldwin and Rhodes          4.250   \n1  672831657627      Y  Swanson, Newton and Miller          4.875   \n2  742515242108      Z              Thornton-Davis          3.250   \n3  601385667462      X                       OTHER          4.750   \n4  273870029961      X                       OTHER          4.750   \n\n   unpaid_principal_bal  loan_term origination_date first_payment_date  \\\n0                214000        360       2012-03-01            05/2012   \n1                144000        360       2012-01-01            03/2012   \n2                366000        180       2012-01-01            03/2012   \n3                135000        360       2012-02-01            04/2012   \n4                124000        360       2012-02-01            04/2012   \n\n   loan_to_value  number_of_borrowers  ...  m4  m5 m6  m7  m8  m9  m10  m11  \\\n0             95                  1.0  ...   0   0  0   1   0   0    0    0   \n1             72                  1.0  ...   0   0  0   0   0   0    0    1   \n2             49                  1.0  ...   0   0  0   0   0   0    0    0   \n3             46                  2.0  ...   0   0  0   0   0   1    1    1   \n4             80                  1.0  ...   3   4  5   6   7   8    9   10   \n\n   m12  m13  \n0    0    1  \n1    0    1  \n2    0    1  \n3    1    1  \n4   11    1  \n\n[5 rows x 29 columns]",
      "text/html": "<div>\n<style scoped>\n    .dataframe tbody tr th:only-of-type {\n        vertical-align: middle;\n    }\n\n    .dataframe tbody tr th {\n        vertical-align: top;\n    }\n\n    .dataframe thead th {\n        text-align: right;\n    }\n</style>\n<table border=\"1\" class=\"dataframe\">\n  <thead>\n    <tr style=\"text-align: right;\">\n      <th></th>\n      <th>loan_id</th>\n      <th>source</th>\n      <th>financial_institution</th>\n      <th>interest_rate</th>\n      <th>unpaid_principal_bal</th>\n      <th>loan_term</th>\n      <th>origination_date</th>\n      <th>first_payment_date</th>\n      <th>loan_to_value</th>\n      <th>number_of_borrowers</th>\n      <th>...</th>\n      <th>m4</th>\n      <th>m5</th>\n      <th>m6</th>\n      <th>m7</th>\n      <th>m8</th>\n      <th>m9</th>\n      <th>m10</th>\n      <th>m11</th>\n      <th>m12</th>\n      <th>m13</th>\n    </tr>\n  </thead>\n  <tbody>\n    <tr>\n      <th>0</th>\n      <td>268055008619</td>\n      <td>Z</td>\n      <td>Turner, Baldwin and Rhodes</td>\n      <td>4.250</td>\n      <td>214000</td>\n      <td>360</td>\n      <td>2012-03-01</td>\n      <td>05/2012</td>\n      <td>95</td>\n      <td>1.0</td>\n      <td>...</td>\n      <td>0</td>\n      <td>0</td>\n      <td>0</td>\n      <td>1</td>\n      <td>0</td>\n      <td>0</td>\n      <td>0</td>\n      <td>0</td>\n      <td>0</td>\n      <td>1</td>\n    </tr>\n    <tr>\n      <th>1</th>\n      <td>672831657627</td>\n      <td>Y</td>\n      <td>Swanson, Newton and Miller</td>\n      <td>4.875</td>\n      <td>144000</td>\n      <td>360</td>\n      <td>2012-01-01</td>\n      <td>03/2012</td>\n      <td>72</td>\n      <td>1.0</td>\n      <td>...</td>\n      <td>0</td>\n      <td>0</td>\n      <td>0</td>\n      <td>0</td>\n      <td>0</td>\n      <td>0</td>\n      <td>0</td>\n      <td>1</td>\n      <td>0</td>\n      <td>1</td>\n    </tr>\n    <tr>\n      <th>2</th>\n      <td>742515242108</td>\n      <td>Z</td>\n      <td>Thornton-Davis</td>\n      <td>3.250</td>\n      <td>366000</td>\n      <td>180</td>\n      <td>2012-01-01</td>\n      <td>03/2012</td>\n      <td>49</td>\n      <td>1.0</td>\n      <td>...</td>\n      <td>0</td>\n      <td>0</td>\n      <td>0</td>\n      <td>0</td>\n      <td>0</td>\n      <td>0</td>\n      <td>0</td>\n      <td>0</td>\n      <td>0</td>\n      <td>1</td>\n    </tr>\n    <tr>\n      <th>3</th>\n      <td>601385667462</td>\n      <td>X</td>\n      <td>OTHER</td>\n      <td>4.750</td>\n      <td>135000</td>\n      <td>360</td>\n      <td>2012-02-01</td>\n      <td>04/2012</td>\n      <td>46</td>\n      <td>2.0</td>\n      <td>...</td>\n      <td>0</td>\n      <td>0</td>\n      <td>0</td>\n      <td>0</td>\n      <td>0</td>\n      <td>1</td>\n      <td>1</td>\n      <td>1</td>\n      <td>1</td>\n      <td>1</td>\n    </tr>\n    <tr>\n      <th>4</th>\n      <td>273870029961</td>\n      <td>X</td>\n      <td>OTHER</td>\n      <td>4.750</td>\n      <td>124000</td>\n      <td>360</td>\n      <td>2012-02-01</td>\n      <td>04/2012</td>\n      <td>80</td>\n      <td>1.0</td>\n      <td>...</td>\n      <td>3</td>\n      <td>4</td>\n      <td>5</td>\n      <td>6</td>\n      <td>7</td>\n      <td>8</td>\n      <td>9</td>\n      <td>10</td>\n      <td>11</td>\n      <td>1</td>\n    </tr>\n  </tbody>\n</table>\n<p>5 rows × 29 columns</p>\n</div>"
     },
     "metadata": {},
     "output_type": "execute_result",
     "execution_count": 23
    }
   ],
   "source": [
    "tr = pd.read_csv('dataset/train.csv')\n",
    "tr.head()"
   ],
   "metadata": {
    "collapsed": false,
    "pycharm": {
     "name": "#%%\n",
     "is_executing": false
    }
   }
  },
  {
   "cell_type": "code",
   "execution_count": 24,
   "outputs": [],
   "source": [
    "# one hot encoding function"
   ],
   "metadata": {
    "collapsed": false,
    "pycharm": {
     "name": "#%%\n",
     "is_executing": false
    }
   }
  },
  {
   "cell_type": "code",
   "execution_count": 25,
   "outputs": [],
   "source": [
    "def one_hot_encoding(dataframe, feature):\n",
    "    \"\"\"Accetps a dataframe and returns the dataframe with feature one_hot_encoded\"\"\"\n",
    "    financial_institution_dict = {name: value for value, name in enumerate(set(list(dataframe[feature])))} \n",
    "    dataframe[feature] = dataframe[feature].map(financial_institution_dict)\n",
    "    # tr['financial_institution']\n",
    "    # financial_institution_dict\n",
    "    ohe = pd.get_dummies(dataframe[feature])\n",
    "    dataframe = dataframe.drop(feature, axis=1)\n",
    "    dataframe = dataframe.join(ohe)\n",
    "    \n",
    "    return dataframe\n"
   ],
   "metadata": {
    "collapsed": false,
    "pycharm": {
     "name": "#%%\n",
     "is_executing": false
    }
   }
  },
  {
   "cell_type": "code",
   "execution_count": 26,
   "outputs": [
    {
     "data": {
      "text/plain": "        loan_id source  interest_rate  unpaid_principal_bal  loan_term  \\\n0  268055008619      Z          4.250                214000        360   \n1  672831657627      Y          4.875                144000        360   \n2  742515242108      Z          3.250                366000        180   \n3  601385667462      X          4.750                135000        360   \n4  273870029961      X          4.750                124000        360   \n\n  origination_date first_payment_date  loan_to_value  number_of_borrowers  \\\n0       2012-03-01            05/2012             95                  1.0   \n1       2012-01-01            03/2012             72                  1.0   \n2       2012-01-01            03/2012             49                  1.0   \n3       2012-02-01            04/2012             46                  2.0   \n4       2012-02-01            04/2012             80                  1.0   \n\n   debt_to_income_ratio  ...  9 10  11  12  13  14  15  16  17  18  \n0                  22.0  ...  0  0   0   0   0   0   0   0   0   0  \n1                  44.0  ...  0  0   0   0   0   0   0   0   0   0  \n2                  33.0  ...  0  0   0   0   0   0   0   0   0   0  \n3                  44.0  ...  0  0   0   0   0   0   0   1   0   0  \n4                  43.0  ...  0  0   0   0   0   0   0   1   0   0  \n\n[5 rows x 47 columns]",
      "text/html": "<div>\n<style scoped>\n    .dataframe tbody tr th:only-of-type {\n        vertical-align: middle;\n    }\n\n    .dataframe tbody tr th {\n        vertical-align: top;\n    }\n\n    .dataframe thead th {\n        text-align: right;\n    }\n</style>\n<table border=\"1\" class=\"dataframe\">\n  <thead>\n    <tr style=\"text-align: right;\">\n      <th></th>\n      <th>loan_id</th>\n      <th>source</th>\n      <th>interest_rate</th>\n      <th>unpaid_principal_bal</th>\n      <th>loan_term</th>\n      <th>origination_date</th>\n      <th>first_payment_date</th>\n      <th>loan_to_value</th>\n      <th>number_of_borrowers</th>\n      <th>debt_to_income_ratio</th>\n      <th>...</th>\n      <th>9</th>\n      <th>10</th>\n      <th>11</th>\n      <th>12</th>\n      <th>13</th>\n      <th>14</th>\n      <th>15</th>\n      <th>16</th>\n      <th>17</th>\n      <th>18</th>\n    </tr>\n  </thead>\n  <tbody>\n    <tr>\n      <th>0</th>\n      <td>268055008619</td>\n      <td>Z</td>\n      <td>4.250</td>\n      <td>214000</td>\n      <td>360</td>\n      <td>2012-03-01</td>\n      <td>05/2012</td>\n      <td>95</td>\n      <td>1.0</td>\n      <td>22.0</td>\n      <td>...</td>\n      <td>0</td>\n      <td>0</td>\n      <td>0</td>\n      <td>0</td>\n      <td>0</td>\n      <td>0</td>\n      <td>0</td>\n      <td>0</td>\n      <td>0</td>\n      <td>0</td>\n    </tr>\n    <tr>\n      <th>1</th>\n      <td>672831657627</td>\n      <td>Y</td>\n      <td>4.875</td>\n      <td>144000</td>\n      <td>360</td>\n      <td>2012-01-01</td>\n      <td>03/2012</td>\n      <td>72</td>\n      <td>1.0</td>\n      <td>44.0</td>\n      <td>...</td>\n      <td>0</td>\n      <td>0</td>\n      <td>0</td>\n      <td>0</td>\n      <td>0</td>\n      <td>0</td>\n      <td>0</td>\n      <td>0</td>\n      <td>0</td>\n      <td>0</td>\n    </tr>\n    <tr>\n      <th>2</th>\n      <td>742515242108</td>\n      <td>Z</td>\n      <td>3.250</td>\n      <td>366000</td>\n      <td>180</td>\n      <td>2012-01-01</td>\n      <td>03/2012</td>\n      <td>49</td>\n      <td>1.0</td>\n      <td>33.0</td>\n      <td>...</td>\n      <td>0</td>\n      <td>0</td>\n      <td>0</td>\n      <td>0</td>\n      <td>0</td>\n      <td>0</td>\n      <td>0</td>\n      <td>0</td>\n      <td>0</td>\n      <td>0</td>\n    </tr>\n    <tr>\n      <th>3</th>\n      <td>601385667462</td>\n      <td>X</td>\n      <td>4.750</td>\n      <td>135000</td>\n      <td>360</td>\n      <td>2012-02-01</td>\n      <td>04/2012</td>\n      <td>46</td>\n      <td>2.0</td>\n      <td>44.0</td>\n      <td>...</td>\n      <td>0</td>\n      <td>0</td>\n      <td>0</td>\n      <td>0</td>\n      <td>0</td>\n      <td>0</td>\n      <td>0</td>\n      <td>1</td>\n      <td>0</td>\n      <td>0</td>\n    </tr>\n    <tr>\n      <th>4</th>\n      <td>273870029961</td>\n      <td>X</td>\n      <td>4.750</td>\n      <td>124000</td>\n      <td>360</td>\n      <td>2012-02-01</td>\n      <td>04/2012</td>\n      <td>80</td>\n      <td>1.0</td>\n      <td>43.0</td>\n      <td>...</td>\n      <td>0</td>\n      <td>0</td>\n      <td>0</td>\n      <td>0</td>\n      <td>0</td>\n      <td>0</td>\n      <td>0</td>\n      <td>1</td>\n      <td>0</td>\n      <td>0</td>\n    </tr>\n  </tbody>\n</table>\n<p>5 rows × 47 columns</p>\n</div>"
     },
     "metadata": {},
     "output_type": "execute_result",
     "execution_count": 26
    }
   ],
   "source": [
    "\n",
    "tr = one_hot_encoding(tr, 'financial_institution')\n",
    "tr.head()"
   ],
   "metadata": {
    "collapsed": false,
    "pycharm": {
     "name": "#%%\n",
     "is_executing": false
    }
   }
  }
 ],
 "metadata": {
  "language_info": {
   "codemirror_mode": {
    "name": "ipython",
    "version": 2
   },
   "file_extension": ".py",
   "mimetype": "text/x-python",
   "name": "python",
   "nbconvert_exporter": "python",
   "pygments_lexer": "ipython2",
   "version": "2.7.6"
  },
  "kernelspec": {
   "name": "python3",
   "language": "python",
   "display_name": "Python 3"
  },
  "pycharm": {
   "stem_cell": {
    "cell_type": "raw",
    "source": [],
    "metadata": {
     "collapsed": false
    }
   }
  }
 },
 "nbformat": 4,
 "nbformat_minor": 0
}